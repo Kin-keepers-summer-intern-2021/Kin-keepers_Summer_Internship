{
 "cells": [
  {
   "cell_type": "markdown",
   "id": "fd9cdbcb",
   "metadata": {},
   "source": [
    "# Python data types and structures\n",
    "\n",
    "\n",
    "In the [Program Flow notebook](Py_ProgramFlow.ipynb), we introduced the idea of variables, which we could use to store several different kinds of information. We could store text, numbers, or truth values. These different kinds of information correspond with different Python data `type`s."
   ]
  },
  {
   "cell_type": "code",
   "execution_count": null,
   "id": "4bbc1344",
   "metadata": {},
   "outputs": [],
   "source": [
    "print(type('some text'))\n",
    "print(type(10))\n",
    "print(type(10.3))\n",
    "print(type(True))"
   ]
  },
  {
   "cell_type": "markdown",
   "id": "1a604973",
   "metadata": {},
   "source": [
    "# 1. Python List\n",
    "A list in Python is used to store the sequence of various types of data. Python lists are mutable type its mean we can modify its element after it created. \n",
    "\n",
    "A list can be defined as a collection of values or items of different types. The items in the list are separated with the comma `(,)` and enclosed with the square brackets `[]`.\n",
    "\n",
    "### Characteristics of Lists\n",
    "\n",
    "* lists are ordered.\n",
    "* The element of the list can be accessed by index.\n",
    "* The lists are mutable (meaning their elements can be changed unlike string or tuple)\n",
    "* A list can store various elements."
   ]
  },
  {
   "cell_type": "code",
   "execution_count": null,
   "id": "2913dd0c",
   "metadata": {},
   "outputs": [],
   "source": [
    "# Empty List\n",
    "my_list = []\n",
    "\n",
    "# list of intergers\n",
    "my_int = [1,2,3,4]\n",
    "\n",
    "# list of different data types\n",
    "my_data = [1, 5.7, 'Hello', True]\n",
    "\n",
    "# list can have another list as an items\n",
    "list_of_lists = [['a', 'list', 'of', 'words'], [1, 5, 209], [True, True, False]]"
   ]
  },
  {
   "cell_type": "code",
   "execution_count": null,
   "id": "42b9ec70",
   "metadata": {
    "scrolled": true
   },
   "outputs": [],
   "source": [
    "# Size of a list\n",
    "print(len(my_list))\n",
    "print(len(my_int))\n",
    "print(len(my_data))\n",
    "print(len(list_of_lists))"
   ]
  },
  {
   "cell_type": "code",
   "execution_count": null,
   "id": "15636c6a",
   "metadata": {},
   "outputs": [],
   "source": []
  },
  {
   "cell_type": "markdown",
   "id": "3c2f99f2",
   "metadata": {},
   "source": [
    "## Retrieving List Items\n",
    "### List Indexing\n",
    "The elements of the list can be accessed by using the slice operator `[]`\n",
    "\n",
    "![python-list](images/python_list.png)"
   ]
  },
  {
   "cell_type": "code",
   "execution_count": null,
   "id": "900072a5",
   "metadata": {},
   "outputs": [],
   "source": [
    "grocery_list = ['chicken', 'onions', 'rice', 'peppers', 'bananas']\n",
    "print (len(grocery_list))\n",
    "print (grocery_list[4])\n",
    "print (grocery_list[1])\n",
    "print (grocery_list[-1])\n",
    "print (grocery_list[-5])\n",
    "print (grocery_list[-4])"
   ]
  },
  {
   "cell_type": "markdown",
   "id": "62300fb7",
   "metadata": {},
   "source": [
    "### Slicing\n",
    "We can access a range of items in a list by using the slicing operator `:`."
   ]
  },
  {
   "cell_type": "code",
   "execution_count": null,
   "id": "6df51142",
   "metadata": {},
   "outputs": [],
   "source": [
    "print(grocery_list[:])\n",
    "print(grocery_list[1:])\n",
    "print(grocery_list[1:4])\n",
    "print(grocery_list[3:])\n",
    "print(grocery_list[:3])\n"
   ]
  },
  {
   "cell_type": "code",
   "execution_count": null,
   "id": "3ae7add4",
   "metadata": {},
   "outputs": [],
   "source": [
    "print(grocery_list[:-1])\n",
    "print(grocery_list[-3:])"
   ]
  },
  {
   "cell_type": "markdown",
   "id": "c226e3dc",
   "metadata": {},
   "source": [
    "We can also slice a list using a step-size other than 1. For instance, we can slice every other item of the list, or even reverse the list by making negative steps."
   ]
  },
  {
   "cell_type": "code",
   "execution_count": null,
   "id": "e64791a7",
   "metadata": {},
   "outputs": [],
   "source": [
    "print(grocery_list)\n",
    "print(grocery_list[::2])   # slice from beginning to the end, in steps of 2\n",
    "print(grocery_list[4:1:-1])  # slice from 4th item to second item in reverse order"
   ]
  },
  {
   "cell_type": "markdown",
   "id": "c633a58b",
   "metadata": {},
   "source": [
    "### Use `for` loop and  `range` function"
   ]
  },
  {
   "cell_type": "code",
   "execution_count": null,
   "id": "2b3ddd4d",
   "metadata": {},
   "outputs": [],
   "source": [
    "for item in grocery_list:\n",
    "    print(item)"
   ]
  },
  {
   "cell_type": "markdown",
   "id": "899352d7",
   "metadata": {},
   "source": [
    "While we'll usually use the syntax `for item in list`, sometimes we will combine a `for` loop with indexing. The `range` function is useful for this. For example, we can pick out every other item in the list."
   ]
  },
  {
   "cell_type": "code",
   "execution_count": null,
   "id": "d21fab89",
   "metadata": {},
   "outputs": [],
   "source": [
    "for item in range(len(grocery_list)):\n",
    "    print(item, grocery_list[item])"
   ]
  },
  {
   "cell_type": "code",
   "execution_count": null,
   "id": "a2baa1d8",
   "metadata": {},
   "outputs": [],
   "source": [
    "for i in range(0, len(grocery_list), 2):\n",
    "    print(i, grocery_list[i])"
   ]
  },
  {
   "cell_type": "code",
   "execution_count": null,
   "id": "fd3ee413",
   "metadata": {},
   "outputs": [],
   "source": [
    "#print(range(10))\n",
    "#print(range(104, 100, -1))\n",
    "#print(list(range(5))) # starts at 0 and counts by 1 by default"
   ]
  },
  {
   "cell_type": "markdown",
   "id": "eaeef2da",
   "metadata": {},
   "source": [
    "We can also use indexing/slicing to replace items in the list."
   ]
  },
  {
   "cell_type": "code",
   "execution_count": null,
   "id": "97e1c10e",
   "metadata": {},
   "outputs": [],
   "source": [
    "grocery_list = ['chicken', 'onions', 'rice', 'peppers', 'bananas']\n",
    "print(grocery_list)\n",
    "grocery_list[-1] = 'oranges' # replace bananas with oranges\n",
    "print(grocery_list)\n",
    "grocery_list[1:3] = ['carrots', 'couscous'] #replace onions and rice with carrots and couscous\n",
    "print(grocery_list)"
   ]
  },
  {
   "cell_type": "code",
   "execution_count": null,
   "id": "afad0860",
   "metadata": {},
   "outputs": [],
   "source": [
    "grocery_list[:3]"
   ]
  },
  {
   "cell_type": "markdown",
   "id": "6e070bec",
   "metadata": {},
   "source": [
    "### Exercises\n",
    "\n",
    "1. Make a list of 10 elements and select only the last 2 elements\n",
    "2. Take that same list of 10 elements and select every other element starting with the very first element.\n",
    "3. Select every other element starting with the second element."
   ]
  },
  {
   "cell_type": "markdown",
   "id": "3494b200",
   "metadata": {},
   "source": [
    "Since we can modify lists after they are created, we call them _mutable_ (the modifications are called _mutations_). Some Python data types are _immutable_, meaning once they are created they cannot be changed. We'll explore this further as we introduce more data types.\n",
    "\n",
    "Another way we can mutate a `list` is to `append` new items."
   ]
  },
  {
   "cell_type": "code",
   "execution_count": null,
   "id": "1f093668",
   "metadata": {},
   "outputs": [],
   "source": [
    "grocery_list = ['chicken', 'onions', 'rice', 'peppers', 'bananas']\n",
    "print(grocery_list)\n",
    "grocery_list.append('squash')\n",
    "print(grocery_list)"
   ]
  },
  {
   "cell_type": "code",
   "execution_count": null,
   "id": "ef1c27bd",
   "metadata": {},
   "outputs": [],
   "source": [
    "grocery_list.append(['bread', 'salt'])\n",
    "print(grocery_list) # what happened?"
   ]
  },
  {
   "cell_type": "markdown",
   "id": "a851c985",
   "metadata": {},
   "source": [
    "we can view some of the methods of an object by using the `dir` function on the object itself"
   ]
  },
  {
   "cell_type": "code",
   "execution_count": null,
   "id": "8513d838",
   "metadata": {},
   "outputs": [],
   "source": [
    "dir(grocery_list) # "
   ]
  },
  {
   "cell_type": "markdown",
   "id": "9075748c",
   "metadata": {},
   "source": [
    "Since lists can contain lists, we have to be careful about adding multiple items to our list. Instead of `append`, we might want to use `extend`."
   ]
  },
  {
   "cell_type": "code",
   "execution_count": null,
   "id": "1c9d791a",
   "metadata": {
    "scrolled": true
   },
   "outputs": [],
   "source": [
    "grocery_list = ['chicken', 'onions', 'rice', 'peppers', 'bananas', 'squash']\n",
    "print(grocery_list)\n",
    "grocery_list.extend(['bread', 'salt'])\n",
    "print(grocery_list)"
   ]
  },
  {
   "cell_type": "markdown",
   "id": "c5ec37ed",
   "metadata": {},
   "source": [
    "We can also remove items from a list."
   ]
  },
  {
   "cell_type": "code",
   "execution_count": null,
   "id": "9d753b98",
   "metadata": {},
   "outputs": [],
   "source": [
    "print(grocery_list)\n",
    "del grocery_list[-1] # delete the last item\n",
    "print(grocery_list)"
   ]
  },
  {
   "cell_type": "code",
   "execution_count": null,
   "id": "8a23dd1e",
   "metadata": {},
   "outputs": [],
   "source": [
    "print(grocery_list)\n",
    "print(grocery_list.pop(-1)) # remove the last item from the list and return it\n",
    "print(grocery_list)"
   ]
  },
  {
   "cell_type": "markdown",
   "id": "8ac4fc81",
   "metadata": {},
   "source": [
    "Another mutation we can make to a list is to sort it."
   ]
  },
  {
   "cell_type": "code",
   "execution_count": null,
   "id": "aaba85ac",
   "metadata": {},
   "outputs": [],
   "source": [
    "grocery_list.sort()\n",
    "print(grocery_list)"
   ]
  },
  {
   "cell_type": "markdown",
   "id": "3d640024",
   "metadata": {},
   "source": [
    "The three major defining properties of the Python `list` are that it is ordered, heterogeneous, and mutable. Because it is heterogeneous and mutable, the `list` is very flexible. We need to be careful about the changes we make to a `list`, because they can be very unpredictable. We could break our code or lose data!"
   ]
  },
  {
   "cell_type": "code",
   "execution_count": null,
   "id": "e4e2442c",
   "metadata": {},
   "outputs": [],
   "source": [
    "# exercise 1\n",
    "my_list = list(range(10))\n",
    "print(my_list)\n",
    "print (my_list[-2:])"
   ]
  },
  {
   "cell_type": "code",
   "execution_count": null,
   "id": "fb41ada3",
   "metadata": {},
   "outputs": [],
   "source": [
    "#exercise\n",
    "print (my_list[::2])"
   ]
  },
  {
   "cell_type": "code",
   "execution_count": null,
   "id": "77decd80",
   "metadata": {},
   "outputs": [],
   "source": [
    "# exe 3\n",
    "print (my_list[1::2])"
   ]
  },
  {
   "cell_type": "code",
   "execution_count": null,
   "id": "362b6896",
   "metadata": {},
   "outputs": [],
   "source": []
  },
  {
   "cell_type": "markdown",
   "id": "65020188",
   "metadata": {},
   "source": [
    "### List Comprehension\n",
    "List Comprehension is defined as an elegant way to define, create a list in Python and consists of brackets that contains an expression followed by for clause. It is efficient in both computationally and in terms of coding space and time.\n",
    "\n",
    "[ expression **for** item **in** list **if** conditional ]"
   ]
  },
  {
   "cell_type": "code",
   "execution_count": null,
   "id": "4df606ea",
   "metadata": {},
   "outputs": [],
   "source": [
    "two_power = [2 ** x for x in range(10)]\n",
    "two_power"
   ]
  },
  {
   "cell_type": "code",
   "execution_count": null,
   "id": "723bac09",
   "metadata": {},
   "outputs": [],
   "source": [
    "pow2 = []\n",
    "for x in range(10):\n",
    "    pow2.append(2 ** x)\n",
    "\n",
    "pow2"
   ]
  },
  {
   "cell_type": "code",
   "execution_count": null,
   "id": "a667378b",
   "metadata": {},
   "outputs": [],
   "source": [
    "[x**2 for x in range(10) if x > 4]"
   ]
  },
  {
   "cell_type": "markdown",
   "id": "6e781be7",
   "metadata": {},
   "source": [
    "### Questions\n",
    "- write a function `divisible` that returns a list of numbers less than 50 that are divisible by 3 and 2\n",
    "- Use list comprehension to write the same function as in question 1 above\n"
   ]
  },
  {
   "cell_type": "markdown",
   "id": "ed05e355",
   "metadata": {},
   "source": [
    "# 2. Python Tuple\n",
    "A Python `tuple` is very similar to a `list` with one major difference -- it is immutable. We create a `tuple` using parentheses `()`. While we can retrieve data in a tuple by indexing, we can't modify (immutable)"
   ]
  },
  {
   "cell_type": "code",
   "execution_count": null,
   "id": "5cd9e41c",
   "metadata": {},
   "outputs": [],
   "source": [
    "example_tuple = ('Hello', 24, 167.6, True)\n",
    "print(example_tuple)"
   ]
  },
  {
   "cell_type": "code",
   "execution_count": null,
   "id": "0c906ef9",
   "metadata": {},
   "outputs": [],
   "source": [
    "print(example_tuple[2])\n",
    "print (example_tuple[:2])\n",
    "print (example_tuple[-3:])"
   ]
  },
  {
   "cell_type": "code",
   "execution_count": null,
   "id": "db1b3c77",
   "metadata": {},
   "outputs": [],
   "source": [
    "example_tuple[2] = 169.3"
   ]
  },
  {
   "cell_type": "code",
   "execution_count": null,
   "id": "677f6a43",
   "metadata": {},
   "outputs": [],
   "source": [
    "del example_tuple[-1]"
   ]
  },
  {
   "cell_type": "markdown",
   "id": "a54fa4c6",
   "metadata": {},
   "source": [
    "While for clarity we should enclose tuples with `()`, Python will assume we want a `tuple` if we don't use any symbols to enclose comma separated values."
   ]
  },
  {
   "cell_type": "code",
   "execution_count": null,
   "id": "9c567104",
   "metadata": {},
   "outputs": [],
   "source": [
    "another_example_tuple = 'Jill', 36, 162.3, True\n",
    "print(another_example_tuple)\n",
    "print(type(another_example_tuple))"
   ]
  },
  {
   "cell_type": "markdown",
   "id": "0e7fe279",
   "metadata": {},
   "source": [
    "This implicit `tuple` comes up most often when working with functions that return multiple outputs. For example, we might have a function that returns the first and last letter of a string."
   ]
  },
  {
   "cell_type": "code",
   "execution_count": null,
   "id": "366e5039",
   "metadata": {},
   "outputs": [],
   "source": [
    "def first_last(s):\n",
    "    return s[0], s[-1]\n",
    "\n",
    "chars = first_last('hello!')\n",
    "print(chars)"
   ]
  },
  {
   "cell_type": "markdown",
   "id": "5deb174d",
   "metadata": {},
   "source": [
    "In such cases, we'll sometimes want to store the multiple outputs in separate variables, not as tuple. "
   ]
  },
  {
   "cell_type": "code",
   "execution_count": null,
   "id": "d90113f5",
   "metadata": {},
   "outputs": [],
   "source": [
    "first_char, last_char = first_last('hello!')\n",
    "\n",
    "print(first_char)\n",
    "print(last_char)"
   ]
  },
  {
   "cell_type": "markdown",
   "id": "47c01b6c",
   "metadata": {},
   "source": [
    "This syntax is called _`unpacking`_. We can use it with any `tuple`, whether it was returned by a function or not."
   ]
  },
  {
   "cell_type": "code",
   "execution_count": null,
   "id": "8b4e416c",
   "metadata": {
    "scrolled": true
   },
   "outputs": [],
   "source": [
    "name, age, height, has_dog = another_example_tuple\n",
    "\n",
    "print(name)\n",
    "print(age)\n",
    "print(height)\n",
    "print(has_dog)"
   ]
  },
  {
   "cell_type": "code",
   "execution_count": null,
   "id": "5dd4f06a",
   "metadata": {},
   "outputs": [],
   "source": [
    "#a,b,c = 1,2,3\n",
    "#a,b = 5,7,3\n",
    "#a,b,c = 9,6"
   ]
  },
  {
   "cell_type": "markdown",
   "id": "a41fc401",
   "metadata": {},
   "source": [
    "Both the Python `list` and `tuple` are ordered and heterogeneous. However, unlike the `list`, the `tuple` is immutable, meaning it cannot be modified after it is created. Therefore, a `list` might be better for representing data that is expected to change over the course of a program, like a to-do list. A `tuple` might be better for representing data that is expected to be fixed, like the responses of an individual subject to a survey.\n",
    "\n",
    "#### Gotcha\n",
    "\n",
    "One common mistake people make with immutability and especially with tuples is to assume data structures inside the tuple are immutable because the tuple is immutable.  Lets see an example."
   ]
  },
  {
   "cell_type": "code",
   "execution_count": null,
   "id": "d233b166",
   "metadata": {},
   "outputs": [],
   "source": [
    "tup = tuple([[], 'a'])\n",
    "print(tup)\n",
    "tup[0].append(1)\n",
    "print(tup)"
   ]
  },
  {
   "cell_type": "markdown",
   "id": "46436291",
   "metadata": {},
   "source": [
    "Even though the tuple itself is immutable, we cannot change the exact objects which it contains, those objects themselves can be mutated if they are mutable.  As with anywhere mutability shows up, this requires the programmer to be careful and not assume data has not been modified in some context."
   ]
  },
  {
   "cell_type": "markdown",
   "id": "e7961a55",
   "metadata": {},
   "source": [
    "# 3. Python Sets"
   ]
  },
  {
   "cell_type": "markdown",
   "id": "d93f81ec",
   "metadata": {},
   "source": [
    "A Python `set` is also similar to a `list`, except it is unordered. It can store heterogeneous data and it is mutable, but what does it mean to be unordered? The simplest explanation is simply to look at an example. We can create a set by enclosing our data with curly brackets `{}` or Using `set()` method\n",
    "\n",
    "A Python set is the collection of the unordered items. Each element in the set must be unique, immutable, and the sets remove the duplicate elements. Sets are mutable which means we can modify it after its creation.\n",
    "\n",
    "Unlike other collections in Python, there is no index attached to the elements of the set, i.e., we cannot directly access any element of the set by the index. However, we can print them all together, or we can get the list of elements by looping through the set."
   ]
  },
  {
   "cell_type": "code",
   "execution_count": null,
   "id": "06236044",
   "metadata": {},
   "outputs": [],
   "source": [
    "example_set = {'John', 26, 167.6, True}\n",
    "print(example_set)"
   ]
  },
  {
   "cell_type": "markdown",
   "id": "93e27a81",
   "metadata": {},
   "source": [
    "Creating an empty set is a bit different because empty curly {} braces are also used to create a dictionary as well. So Python provides the set() method used without an argument to create an empty set."
   ]
  },
  {
   "cell_type": "code",
   "execution_count": null,
   "id": "9b00b0c3",
   "metadata": {},
   "outputs": [],
   "source": [
    "#Using set() method\n",
    "set(['John', 26, 167.6, True])"
   ]
  },
  {
   "cell_type": "code",
   "execution_count": null,
   "id": "c1376974",
   "metadata": {},
   "outputs": [],
   "source": [
    "set(['John', 'Dylan', 3, 'John', 4, 3.5, 'john', True, False, True, 3, 'dylan'])"
   ]
  },
  {
   "cell_type": "markdown",
   "id": "0063ebd3",
   "metadata": {},
   "source": [
    "Even though we entered the data in one order, the `set` printed out in a different order. Even more significantly, we cannot index or slice a `set`."
   ]
  },
  {
   "cell_type": "code",
   "execution_count": null,
   "id": "affb7c0d",
   "metadata": {},
   "outputs": [],
   "source": [
    "example_set[0]"
   ]
  },
  {
   "cell_type": "markdown",
   "id": "f5a08a54",
   "metadata": {},
   "source": [
    "However, we can still add items from a set."
   ]
  },
  {
   "cell_type": "code",
   "execution_count": null,
   "id": "2dffbd86",
   "metadata": {},
   "outputs": [],
   "source": [
    "# add items using .add()\n",
    "example_set.add('True')\n",
    "print(example_set)\n",
    "\n",
    "# update set using\n",
    "example_set.update([58.1, 'brown'])\n",
    "print(example_set)"
   ]
  },
  {
   "cell_type": "markdown",
   "id": "ec2eb4e4",
   "metadata": {},
   "source": [
    "The `add` method of a `set` works similarly to the `append` method of a `list`. The `update` method of a `set` works similarly to the `extend` method of a `list`.\n",
    "\n",
    "We can also remove elements in a set using `discard()` and `remove()`\n"
   ]
  },
  {
   "cell_type": "code",
   "execution_count": null,
   "id": "afcb078d",
   "metadata": {},
   "outputs": [],
   "source": [
    "# Difference between discard() and remove()\n",
    "# initialize my_set\n",
    "my_set = {1, 3, 4, 5, 6}\n",
    "print('my_set',my_set)"
   ]
  },
  {
   "cell_type": "code",
   "execution_count": null,
   "id": "6e582566",
   "metadata": {},
   "outputs": [],
   "source": [
    "# discard an element\n",
    "my_set.discard(4)\n",
    "print('discarded:', my_set)"
   ]
  },
  {
   "cell_type": "code",
   "execution_count": null,
   "id": "1760c636",
   "metadata": {},
   "outputs": [],
   "source": [
    "# remove an element\n",
    "my_set = {1, 3, 4, 5, 6}\n",
    "\n",
    "my_set.remove(6)\n",
    "print('removed:',my_set)"
   ]
  },
  {
   "cell_type": "code",
   "execution_count": null,
   "id": "ac9f022a",
   "metadata": {},
   "outputs": [],
   "source": [
    "# discard an element\n",
    "# not present in my_set\n",
    "my_set = {1, 3, 4, 5, 6}\n",
    "\n",
    "my_set.discard(2)\n",
    "print('discraded element not present', my_set)"
   ]
  },
  {
   "cell_type": "code",
   "execution_count": null,
   "id": "133bf58e",
   "metadata": {},
   "outputs": [],
   "source": [
    "# remove an element not present in my_set\n",
    "\n",
    "my_set = {1, 3, 4, 5, 6}\n",
    "my_set.remove(2)"
   ]
  },
  {
   "cell_type": "markdown",
   "id": "dd7fc08f",
   "metadata": {},
   "source": [
    "### Set Operations\n",
    "Sets can be used to carry out mathematical set operations like union, intersection, difference and symmetric difference. We can do this with operators or methods.\n",
    "![set_operations](images/set_operations.png)\n"
   ]
  },
  {
   "cell_type": "code",
   "execution_count": null,
   "id": "c384835e",
   "metadata": {},
   "outputs": [],
   "source": [
    "student_a_courses = {'history', 'english', 'biology', 'theatre'}\n",
    "student_b_courses = {'biology', 'english', 'mathematics', 'computer science'}"
   ]
  },
  {
   "cell_type": "code",
   "execution_count": null,
   "id": "153ae635",
   "metadata": {},
   "outputs": [],
   "source": [
    "print(student_a_courses.intersection(student_b_courses))\n",
    "print(student_a_courses.union(student_b_courses))\n",
    "print(student_a_courses.difference(student_b_courses))\n",
    "print(student_b_courses.difference(student_a_courses))\n",
    "print(student_a_courses.symmetric_difference(student_b_courses))"
   ]
  },
  {
   "cell_type": "markdown",
   "id": "308c529e",
   "metadata": {},
   "source": [
    "# 4. Python Dictionary"
   ]
  },
  {
   "cell_type": "markdown",
   "id": "88d8a7d3",
   "metadata": {},
   "source": [
    "To understand the Python `dict`, let's start again with the Python `list`."
   ]
  },
  {
   "cell_type": "code",
   "execution_count": null,
   "id": "9b8b7327",
   "metadata": {},
   "outputs": [],
   "source": [
    "me = ['Dylan', 28, 167.5, 56.5, 'brown', 'brown', True]"
   ]
  },
  {
   "cell_type": "markdown",
   "id": "a29e3204",
   "metadata": {},
   "source": [
    "This `list` describes me: my name, my age, my height (in centimeters), my weight (in kilograms), my hair color, my eye color, and whether or not I have a dog. We know we can access this information individually by index."
   ]
  },
  {
   "cell_type": "markdown",
   "id": "bac445f1",
   "metadata": {},
   "source": [
    "It would be easy to get mixed up about which data is which (for example, which `'brown'` is hair color and which is eye color?), or where I should find it (will age always be at index 1?).\n",
    "\n",
    "A better solution would be a data structure where we could index using meaningful values. For example instead of using `me[0]` to recover `Dylan`, I could use `me['name']`. Instead of hair color being `me[4]`, it could be `me['hair']`. This feature is the central characteristic of the Python `dict`."
   ]
  },
  {
   "cell_type": "markdown",
   "id": "1e0f2444",
   "metadata": {},
   "source": [
    "Python Dictionary is used to store the data in a `key-value` pair format. Dictionary is a data type in Python, which can simulate the real-life data arrangement where some specific value exists for some particular key. It is a mutable data-structure. The dictionary is defined into element `Keys` and `values`.\n",
    "\n",
    "* `Key`s must be a single element\n",
    "* `Value` can be any type such as list, tuple, integer, etc."
   ]
  },
  {
   "cell_type": "code",
   "execution_count": null,
   "id": "56c37cea",
   "metadata": {},
   "outputs": [],
   "source": [
    "me_dict = {'name': 'Dylan', 'age': 28, 'height': 167.5, 'weight': 56.5, 'hair': 'brown', 'eyes': 'brown', 'has dog': True}\n",
    "\n",
    "print('My name is %s' % me_dict['name'])\n",
    "print('I have %s hair' % me_dict['hair'])"
   ]
  },
  {
   "cell_type": "code",
   "execution_count": null,
   "id": "143d8bd1",
   "metadata": {},
   "outputs": [],
   "source": [
    "# empty dictionary\n",
    "my_dict = {}\n",
    "\n",
    "# dictionary with integer keys\n",
    "my_dict = {1: 'apple', 2: 'ball'}\n",
    "\n",
    "# dictionary with mixed keys\n",
    "my_dict = {'name': 'John', 1: [2, 4, 3]}\n",
    "\n",
    "# using dict()\n",
    "my_dict = dict({1:'apple', 2:'ball'})\n",
    "\n",
    "# from sequence having each item as a pair\n",
    "my_dict = dict([(1,'apple'), (2,'ball')])"
   ]
  },
  {
   "cell_type": "markdown",
   "id": "295c0976",
   "metadata": {},
   "source": [
    "## Accessing elements in a dictionary\n",
    " dictionary uses `keys`. Keys can be used either inside square brackets `[]` or with the `get()` method"
   ]
  },
  {
   "cell_type": "code",
   "execution_count": null,
   "id": "85a37a2b",
   "metadata": {
    "scrolled": true
   },
   "outputs": [],
   "source": [
    "# use get() and [] for retrieving elements\n",
    "\n",
    "my_dict = {'name': 'Jack', 'age': 26}\n",
    "\n",
    "# Output: Jack\n",
    "print(my_dict['name'])\n",
    "\n",
    "# Output: 26\n",
    "print(my_dict.get('age'))\n",
    "\n",
    "# Trying to access keys which doesn't exist throws error\n",
    "# Output None\n",
    "print(my_dict.get('address'))\n",
    "\n",
    "# KeyError\n",
    "print(my_dict['address'])"
   ]
  },
  {
   "cell_type": "markdown",
   "id": "e21c0b69",
   "metadata": {},
   "source": [
    "## Adding and changing values in a dictionary"
   ]
  },
  {
   "cell_type": "markdown",
   "id": "ef63e021",
   "metadata": {},
   "source": [
    "Dictionaries are mutable. We can add new items or change the value of existing items using an assignment operator.\n",
    "\n",
    "If the key is already present, then the existing value gets updated.\n",
    "\n",
    "In case the key is not present, a new `key: value` pair is added to the dictionary."
   ]
  },
  {
   "cell_type": "code",
   "execution_count": null,
   "id": "f9016eec",
   "metadata": {},
   "outputs": [],
   "source": [
    "# Changing and adding Dictionary Elements\n",
    "my_dict = {'name': 'Jack', 'age': 26}\n",
    "\n",
    "# update value\n",
    "my_dict['age'] = 27\n",
    "print(my_dict)\n",
    "\n",
    "# add item\n",
    "my_dict['address'] = 'Downtown'\n",
    "print(my_dict)"
   ]
  },
  {
   "cell_type": "markdown",
   "id": "966f333d",
   "metadata": {},
   "source": [
    "## Removing elements in a dictionary\n"
   ]
  },
  {
   "cell_type": "markdown",
   "id": "1cec9661",
   "metadata": {},
   "source": [
    "We can remove a particular item in a dictionary by using the `pop()` method. This method removes an item with the provided `key` and returns the `value`.\n",
    "\n",
    "The `popitem()` method can be used to remove and return an arbitrary `(key, value)` item pair from the dictionary. All the items can be removed at once, using the `clear()` method.\n",
    "\n",
    "We can also use the `del` keyword to remove individual items or the entire dictionary itself."
   ]
  },
  {
   "cell_type": "code",
   "execution_count": null,
   "id": "99153d2d",
   "metadata": {},
   "outputs": [],
   "source": [
    "# Removing elements from a dictionary\n",
    "\n",
    "# create a dictionary\n",
    "squares = {1: 1, 2: 4, 3: 9, 4: 16, 5: 25}\n",
    "\n",
    "# remove a particular item, returns its value\n",
    "print(squares.pop(4))\n",
    "print(squares)"
   ]
  },
  {
   "cell_type": "code",
   "execution_count": null,
   "id": "baf3b8bc",
   "metadata": {},
   "outputs": [],
   "source": [
    "# remove an arbitrary item, return (key,value)\n",
    "squares = {1: 1, 2: 4, 3: 9, 4: 16, 5: 25}\n",
    "print(squares.popitem())\n",
    "print(squares)"
   ]
  },
  {
   "cell_type": "code",
   "execution_count": null,
   "id": "3ab68df9",
   "metadata": {},
   "outputs": [],
   "source": [
    "# remove all items\n",
    "squares = {1: 1, 2: 4, 3: 9, 4: 16, 5: 25}\n",
    "squares.clear()\n",
    "print(squares)"
   ]
  },
  {
   "cell_type": "code",
   "execution_count": null,
   "id": "cf035b0c",
   "metadata": {},
   "outputs": [],
   "source": [
    "# delete the dictionary itself\n",
    "squares = {1: 1, 2: 4, 3: 9, 4: 16, 5: 25}\n",
    "del squares\n",
    "print(squares)"
   ]
  },
  {
   "cell_type": "markdown",
   "id": "af9d6c71",
   "metadata": {},
   "source": [
    "### The `zip()` function\n",
    "The `zip` function can be very handy for creating a `dict`. Let's go back to the `list` we made before that contained all the values describing me. We'll make a second `list` containing all the keys we would want for putting these values in a dictionary"
   ]
  },
  {
   "cell_type": "code",
   "execution_count": null,
   "id": "45a370d1",
   "metadata": {},
   "outputs": [],
   "source": [
    "me_values =  ['Dylan', 28, 167.5, 56.5, 'brown', 'brown', True]\n",
    "me_keys = ['name', 'age', 'height', 'weight', 'hair', 'eyes', 'has dog']\n",
    "\n",
    "print(me_values)\n",
    "print(me_keys)"
   ]
  },
  {
   "cell_type": "code",
   "execution_count": null,
   "id": "19c4ede5",
   "metadata": {},
   "outputs": [],
   "source": [
    "key_value_pairs = list(zip(me_values, me_keys))\n",
    "print(key_value_pairs)"
   ]
  },
  {
   "cell_type": "markdown",
   "id": "80dd1f99",
   "metadata": {},
   "source": [
    "## Dictionary Comprehesion\n",
    "Dictionary comprehension is an elegant and concise way to create dictionaries."
   ]
  },
  {
   "cell_type": "code",
   "execution_count": null,
   "id": "8b29c571",
   "metadata": {},
   "outputs": [],
   "source": [
    "me_dict = dict(key_value_pairs)\n",
    "me_dict"
   ]
  },
  {
   "cell_type": "code",
   "execution_count": null,
   "id": "68b8767e",
   "metadata": {},
   "outputs": [],
   "source": [
    "# let's assume the user have two lists named Key and values  \n",
    "key = ['p', 'q', 'r', 's', 't']  \n",
    "value = [56, 67, 43, 12, 6]    \n",
    "\n",
    "# the following method is used for comprehensiong the dictionary  \n",
    "user_Dict = { X:Y for (X,Y) in zip(key, value)}     \n",
    "print (\"user_Dict: \", user_Dict) "
   ]
  },
  {
   "cell_type": "code",
   "execution_count": null,
   "id": "d9e87d6b",
   "metadata": {},
   "outputs": [],
   "source": [
    "square_dict = dict()\n",
    "for num in range(1, 11):\n",
    "    square_dict[num] = num*num\n",
    "print(square_dict)"
   ]
  },
  {
   "cell_type": "code",
   "execution_count": null,
   "id": "d7ebc0f4",
   "metadata": {},
   "outputs": [],
   "source": [
    "# dictionary comprehension example\n",
    "square_dict = {num: num*num for num in range(1, 11)}\n",
    "print(square_dict)"
   ]
  },
  {
   "cell_type": "markdown",
   "id": "8c7d19da",
   "metadata": {},
   "source": [
    "In both programs, we have created a dictionary square_dict with number-square key/value pair.\n",
    "\n",
    "However, using dictionary comprehension allowed us to create a dictionary in a single line."
   ]
  },
  {
   "cell_type": "markdown",
   "id": "8313f7a4",
   "metadata": {},
   "source": [
    "#### Syntax\n",
    "dictionary = {key: value for vars in iterable}"
   ]
  },
  {
   "cell_type": "code",
   "execution_count": null,
   "id": "1126cd21",
   "metadata": {},
   "outputs": [],
   "source": [
    "#item price in dollars\n",
    "old_price = {'milk': 1.02, 'coffee': 2.5, 'bread': 2.5}\n",
    "\n",
    "dollar_to_pound = 0.76\n",
    "new_price = {item: value*dollar_to_pound for (item, value) in old_price.items()}\n",
    "print(new_price)"
   ]
  },
  {
   "cell_type": "code",
   "execution_count": null,
   "id": "7e8e3307",
   "metadata": {},
   "outputs": [],
   "source": [
    "# conditions\n",
    "original_dict = {'jack': 38, 'michael': 48, 'guido': 57, 'john': 33}\n",
    "\n",
    "even_dict = {k: v for (k, v) in original_dict.items() if v % 2 == 0}\n",
    "print(even_dict)"
   ]
  },
  {
   "cell_type": "markdown",
   "id": "b27088e8",
   "metadata": {},
   "source": [
    "## Questions\n",
    "1. Return dict where the values are the data types of the `me_dict` values. (Tip: Use dict comprehension and `for` loops)\n",
    "\n",
    "2. what do you think `list(me_dict)` will return ?\n",
    "3.  Are strings immutable? Are strings ordered? Can we slice strings?\n",
    "4. When might a `dict` be more useful than a `list`?"
   ]
  },
  {
   "cell_type": "code",
   "execution_count": null,
   "id": "a8e0c8af",
   "metadata": {},
   "outputs": [],
   "source": [
    "# but this does\n",
    "#valid_dict = {(1, 5): 'a', 5: [23, 6]}\n",
    "#print(valid_dict)"
   ]
  },
  {
   "cell_type": "code",
   "execution_count": null,
   "id": "b37204ae",
   "metadata": {},
   "outputs": [],
   "source": [
    "#invalid_dict = {[1, 5]: 'a', 5: 23}"
   ]
  },
  {
   "cell_type": "markdown",
   "id": "378cc29e",
   "metadata": {},
   "source": [
    "### What is Hashable? Immutable?\n",
    "#### What is Hashable?\n",
    "\n",
    "Let's start with the key in dictionary. The key of a dictionary should be unique. Internally, the key is transformed by a hash function and become an index to a memory where the value is stored. Suppose, if the key is changed, then it will be pointing somewhere else and we lose the original value the the old key was pointing.\n",
    "\n",
    "In Python, we can say that the key should be hashable. That's why we always use hashable objects as keys. Hashable objects are integers, floats, strings, tuples, and frozensets.\n",
    "\n",
    "Immutable object will not change after it has been created, especially in any way that changes the hash value of that object. Objects used as hash keys must be immutable so their hash values remain unchanged. Note that all hashable objects are also immutable objects.\n",
    "\n",
    "Mutable objects are lists, dictoroaries, and sets.\n",
    "\n",
    "All of Python's immutable built-in objects are hashable, while no mutable containers (such as lists or dictionaries) are\n",
    "\n",
    "TypeError: unhashable type: 'list' usually means that you are trying to use a list as an hash argument. This means that when you try to hash an unhashable object it will result an error. For ex. when you use a list as a key in the dictionary , this cannot be done because lists can't be hashed."
   ]
  },
  {
   "cell_type": "code",
   "execution_count": null,
   "id": "a2a72251",
   "metadata": {},
   "outputs": [],
   "source": []
  }
 ],
 "metadata": {
  "kernelspec": {
   "display_name": "Python 3",
   "language": "python",
   "name": "python3"
  },
  "language_info": {
   "codemirror_mode": {
    "name": "ipython",
    "version": 3
   },
   "file_extension": ".py",
   "mimetype": "text/x-python",
   "name": "python",
   "nbconvert_exporter": "python",
   "pygments_lexer": "ipython3",
   "version": "3.8.8"
  }
 },
 "nbformat": 4,
 "nbformat_minor": 5
}
