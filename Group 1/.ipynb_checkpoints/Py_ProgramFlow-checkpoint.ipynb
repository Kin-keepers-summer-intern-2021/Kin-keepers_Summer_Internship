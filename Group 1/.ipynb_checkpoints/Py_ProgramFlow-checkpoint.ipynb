{
 "cells": [
  {
   "cell_type": "markdown",
   "metadata": {},
   "source": [
    "# Variables, Conditions, Loops and Functions"
   ]
  },
  {
   "cell_type": "markdown",
   "metadata": {},
   "source": [
    "## What is a computer program?\n",
    "\n",
    "At its simplest, a program is a list of instructions that a computer carries out in order. A program could be long and complicated, but it is built of simple parts. Let's look at some simple operations in Python, and think about what the computer does for each one:"
   ]
  },
  {
   "cell_type": "code",
   "execution_count": null,
   "metadata": {},
   "outputs": [],
   "source": [
    "1 + 1"
   ]
  },
  {
   "cell_type": "code",
   "execution_count": null,
   "metadata": {},
   "outputs": [],
   "source": [
    "2 * 3.5"
   ]
  },
  {
   "cell_type": "code",
   "execution_count": null,
   "metadata": {},
   "outputs": [],
   "source": [
    "1 + 1\n",
    "2 * 3.5"
   ]
  },
  {
   "cell_type": "markdown",
   "metadata": {},
   "source": [
    "In the first cell we compute `1 + 1`, and Python returns the result `2`. We can think of this as a very short program. Similarly, in the second cell we compute `2 * 3.5`, and Python returns the result `7.0`.\n",
    "\n",
    "However, in the third cell, when we combine these two statements as sequential lines, we only see Python return `7.0`. Why is that?\n",
    "\n",
    "Python can only return one result at the end of the cell, so the first line is evaluated, but we never see the result. One way we can report intermediate results is using `print`."
   ]
  },
  {
   "cell_type": "code",
   "execution_count": null,
   "metadata": {},
   "outputs": [],
   "source": [
    "print(1 + 1)\n",
    "print(2 * 3.5)"
   ]
  },
  {
   "cell_type": "markdown",
   "metadata": {},
   "source": [
    "We can also include lines in the code that the computer won't execute. We call these lines **comments**, because they are used to add notes and explanations to the code. We use `#` to indicate that we are making a comment."
   ]
  },
  {
   "cell_type": "code",
   "execution_count": null,
   "metadata": {},
   "outputs": [],
   "source": [
    "print('1 + 1 is', 1 + 1)\n",
    "# this is a comment, Python won't try to execute it\n",
    "print('All done!')"
   ]
  },
  {
   "cell_type": "markdown",
   "metadata": {},
   "source": [
    "## 1. Variables and Data Types"
   ]
  },
  {
   "cell_type": "markdown",
   "metadata": {},
   "source": [
    "Often we won't want to only print intermediate results, but _store_ them for later use. We can store a result in the computer's memory by assigning it to a **variable**.\n",
    "To create a variable, you just assign it a value and then start using it. Assignment is done with a single equals sign `=`"
   ]
  },
  {
   "cell_type": "code",
   "execution_count": null,
   "metadata": {},
   "outputs": [],
   "source": [
    "first_result = 1 + 1\n",
    "final_result = first_result * 3.5\n",
    "\n",
    "print(final_result)"
   ]
  },
  {
   "cell_type": "markdown",
   "metadata": {},
   "source": [
    "Variables help us keep track of the information we need to successfully execute a program. Variables can be used to store a variety of types of information. \n",
    "\n",
    "In other programming languages like C, C++, and Java, you will need to declare the type of variables but in Python you don’t need to do that. Just type in the variable and when values will be given to it, then it will automatically know whether the value given would be an int, float, or char or even a String."
   ]
  },
  {
   "cell_type": "code",
   "execution_count": null,
   "metadata": {},
   "outputs": [],
   "source": [
    "my_name = 'Sula'\n",
    "my_age = 10\n",
    "my_favorite_number = 5.93\n",
    "has_dog = True\n",
    "\n",
    "print('My name is', my_name)\n",
    "print('My age is', my_age)\n",
    "print('My favorite number is', my_favorite_number)\n",
    "print('I own a dog:', has_dog)"
   ]
  },
  {
   "cell_type": "markdown",
   "metadata": {},
   "source": [
    "Since variables can be used to store so many types of information, it's a good idea to give those variables descriptive names like I did. This helps us write code that is easy to read, which helps when we're trying to find and fix mistakes, or share code with others."
   ]
  },
  {
   "cell_type": "code",
   "execution_count": null,
   "metadata": {},
   "outputs": [],
   "source": [
    "print(type(my_name))\n",
    "print(type(my_age))\n",
    "print(type(my_favorite_number))\n",
    "print(type(has_dog))"
   ]
  },
  {
   "cell_type": "markdown",
   "metadata": {},
   "source": [
    "A **string** is a sequence of characters. \n",
    "\n",
    "An **integer** has the same meaning as in mathematics (i.e. \"whole numbers\").\n",
    "\n",
    "A **float** or **floating point number** refers to a decimal number (i.e. \"real number\" in mathematics); it is called a float because the decimal point is allowed to \"float\" through the digits, allowing us to represent both big numbers (e.g. 204939.12) and small numbers (e.g. 0.000239).\n",
    "\n",
    "A **bool** or **boolean** refers to a variable that is either true or false.\n"
   ]
  },
  {
   "cell_type": "markdown",
   "metadata": {},
   "source": [
    "### Exercises\n",
    "\n",
    "1. Define `my_name` and `my_age` variables with values corresponding to your own name and age and print them.\n",
    "1. Use your `my_age` variable to print out how old you will be in 10 years."
   ]
  },
  {
   "cell_type": "markdown",
   "metadata": {},
   "source": [
    "## 2. Functions\n",
    "\n",
    "Can be defined as an organized block of reusable code, which can be called whenever required. \n",
    "\n",
    "There are mainly two types of functions.\n",
    "\n",
    "* **User-define functions** - The user-defined functions are those define by the user to perform the specific task.\n",
    "* **Built-in functions** - The built-in functions are those functions that are pre-defined in Python\n",
    "\n",
    "### Syntax of function defintion"
   ]
  },
  {
   "cell_type": "code",
   "execution_count": null,
   "metadata": {},
   "outputs": [],
   "source": [
    "def function_name(arguments):  \n",
    "    function_block\n",
    "    return expression "
   ]
  },
  {
   "cell_type": "markdown",
   "metadata": {},
   "source": [
    "Many programs react to user input. Functions allow us to define a task we would like the computer to carry out based on input. A simple function in Python might look like this:"
   ]
  },
  {
   "cell_type": "code",
   "execution_count": null,
   "metadata": {},
   "outputs": [],
   "source": [
    "def square(number):\n",
    "    return number**2"
   ]
  },
  {
   "cell_type": "markdown",
   "metadata": {},
   "source": [
    "We define functions using the `def` keyword. Next comes the name of the function, which in this case is `square`. We then enclose the function's input in parentheses, in this case `number`. We use `:` to tell Python we're ready to write the body of the function.\n",
    "\n",
    "In this case the body of the function is very simple; we return the square of `number` (we use `**` for exponents in Python). The keyword `return` signals that the function will generate some output. Not every function will have a `return` statement, but many will. A `return` statement ends a function.\n",
    "\n",
    "Let's see our function in action:"
   ]
  },
  {
   "cell_type": "code",
   "execution_count": null,
   "metadata": {},
   "outputs": [],
   "source": [
    "square(4)"
   ]
  },
  {
   "cell_type": "code",
   "execution_count": null,
   "metadata": {},
   "outputs": [],
   "source": [
    "# we can store function output in variables\n",
    "squared = square(5.5)\n",
    "\n",
    "print(squared)\n",
    "\n",
    "my_number = 6\n",
    "# we can also use variables as function input\n",
    "print(square(my_number))"
   ]
  },
  {
   "cell_type": "markdown",
   "metadata": {},
   "source": [
    "We can pass different input to the `square` function, including variables. When we passed a float to `square`, it returned a float. When we passed an integer, `square` returned an integer. In both cases the input was interpreted by the function as the argument `number`.\n",
    "\n",
    "Not all possible inputs are valid."
   ]
  },
  {
   "cell_type": "code",
   "execution_count": null,
   "metadata": {},
   "outputs": [],
   "source": [
    "print(square('banana'))"
   ]
  },
  {
   "cell_type": "markdown",
   "metadata": {},
   "source": [
    "We ran into an error because `'banana'` is a string, not a number. We should be careful to make sure that the input for a function makes sense for that function's purpose. We'll talk more about errors like this one later on.\n",
    "\n",
    "### Exercises\n",
    "\n",
    "1. Write a function to cube a number.\n",
    "2. Write a function, `say_hello` which takes in a name variable and print out \"Hello name\".  `say_hello(\"zach\")` should print `\"Hello zach\"`."
   ]
  },
  {
   "cell_type": "markdown",
   "metadata": {},
   "source": [
    "### Why Functions?\n",
    "We can see that functions are useful for handling user input, but they also come in handy in numerous other cases.  One example is when we want to perform an action multiple times on different input.  If I want to square a bunch of numbers, in particular the numbers between 1 and 10, I can do this pretty easily (later we will learn about iteration which will make this even easier!)"
   ]
  },
  {
   "cell_type": "code",
   "execution_count": null,
   "metadata": {},
   "outputs": [],
   "source": [
    "1**2\n",
    "2**2\n",
    "3**2\n",
    "4**2\n",
    "5**2\n",
    "6**2\n",
    "7**2\n",
    "8**2\n",
    "9**2"
   ]
  },
  {
   "cell_type": "markdown",
   "metadata": {},
   "source": [
    "It seems I forgot to save the answers or at least print them.  This is easy:"
   ]
  },
  {
   "cell_type": "code",
   "execution_count": null,
   "metadata": {},
   "outputs": [],
   "source": [
    "print(1**2)\n",
    "print(2**2)\n",
    "print(3**2)\n",
    "print(4**2)\n",
    "print(5**2)\n",
    "print(6**2)\n",
    "print(7**2)\n",
    "print(8**2)\n",
    "print(9**2)"
   ]
  },
  {
   "cell_type": "markdown",
   "metadata": {},
   "source": [
    "That worked!  However, what if I now want to go back and add two to all the answers?  Clearly changing each instance is not the right way to do it.  Lets instead define a function to do the work for us."
   ]
  },
  {
   "cell_type": "code",
   "execution_count": null,
   "metadata": {},
   "outputs": [],
   "source": [
    "def do_it(x):\n",
    "    print(x**2 + 2)"
   ]
  },
  {
   "cell_type": "markdown",
   "metadata": {},
   "source": [
    "Now we can just call the function on every element.  If we want to change the output, we just need to change the function in one place, not in all places we want to use the function!"
   ]
  },
  {
   "cell_type": "code",
   "execution_count": null,
   "metadata": {},
   "outputs": [],
   "source": [
    "do_it(1)\n",
    "do_it(2)\n",
    "do_it(3)\n",
    "do_it(4)\n",
    "do_it(5)\n",
    "do_it(6)\n",
    "do_it(7)\n",
    "do_it(8)\n",
    "do_it(9)"
   ]
  },
  {
   "cell_type": "markdown",
   "metadata": {},
   "source": [
    "Splitting out the work into functions is often a way to make code more modular and understandable.  It also helps ensure your code is correct.  If we write a function and test it to be correct, we know it will be correct every time we use it.  If we don't break out code into a function, it is very easy to make typos or other errors which will cause our programs to break.  \n",
    "\n",
    "### Exercises\n",
    "\n",
    "1. Modify the `do_it` function to print the square of the value it currently prints."
   ]
  },
  {
   "cell_type": "markdown",
   "metadata": {},
   "source": [
    "## Key words\n",
    "Keywords are the reserved words in Python.\n",
    "\n",
    "We cannot use a keyword as a variable name, function name or any other identifier. They are used to define the syntax and structure of the Python language. \n",
    "\n",
    "![Python Keywords](images/Capture.PNG)"
   ]
  },
  {
   "cell_type": "markdown",
   "metadata": {},
   "source": [
    "## Operators\n",
    "The operator can be defined as a symbol which is responsible for a particular operation between two operands. Operators are the pillars of a program on which the logic is built in a specific programming language. Python provides a variety of operators\n",
    "![operators](images/operator.jpg)\n",
    "(https://www.javatpoint.com/python-operators)\n"
   ]
  },
  {
   "cell_type": "markdown",
   "metadata": {},
   "source": [
    "## 3. Conditionals and logic:  `if-else` statement \n",
    "\n",
    "We'll often want the computer only to take an action under certain circumstances. For example, we might want a game to print the message 'High score!', but only `if` the player's score is higher than the previous high score. We can write this as a formal logical statement: `if` the player's score is higher than the previous high score _then_ print 'High score!'.\n",
    "\n",
    "The syntax for expressing this logic in Python is very similar.\n",
    "\n",
    "The `if` statement is used to test a specific condition. If the condition is true, a block of code (if-block) will be executed.\n",
    "\n",
    "The `if-else` statement is similar to if statement except the fact that, it also provides the block of the code for the false case of the condition to be checked. If the condition provided in the if statement is false, then the else statement will be executed."
   ]
  },
  {
   "cell_type": "code",
   "execution_count": null,
   "metadata": {},
   "outputs": [],
   "source": [
    "my_number = 10\n",
    "\n",
    "if my_number < 20:\n",
    "    print (f\"my number is {my_number}\")\n",
    "    # print (\"my number is {}\".format(my_number))"
   ]
  },
  {
   "cell_type": "markdown",
   "metadata": {},
   "source": [
    "Let's define a function that accepts the player's score and the previous high score as arguments. If the player's score is higher, then it will print 'High score!'. Finally, it will return the new high score (whichever one that is)."
   ]
  },
  {
   "cell_type": "code",
   "execution_count": null,
   "metadata": {},
   "outputs": [],
   "source": [
    "def test_high_score(player_score, high_score):\n",
    "    if player_score > high_score:\n",
    "        print('High score!')\n",
    "        high_score = player_score\n",
    "    else:\n",
    "        print ('Your score is {}'.format(player_score))\n",
    "\n",
    "    return high_score"
   ]
  },
  {
   "cell_type": "code",
   "execution_count": null,
   "metadata": {},
   "outputs": [],
   "source": [
    "test_high_score(83, 98)"
   ]
  },
  {
   "cell_type": "code",
   "execution_count": null,
   "metadata": {},
   "outputs": [],
   "source": [
    "test_high_score(95, 93)"
   ]
  },
  {
   "cell_type": "markdown",
   "metadata": {},
   "source": [
    "With `if` statements we use a similar syntax as we used for organizing functions. With functions we had a `def` statement ending with `:`, and an indented body. Similarly for a conditional, we have an `if` statement ending with `:`, and an indented body.\n",
    "\n",
    "Conditional statements are used to control program flow. We can visualize our example, `test_high_score`, in a decision tree.\n",
    "\n",
    "![simple_logic_flowchart](images/high_score_flowchart.png)\n",
    "\n",
    "We can nest `if` statements to make more complicated trees."
   ]
  },
  {
   "cell_type": "markdown",
   "metadata": {},
   "source": [
    "## Nested `if` statements"
   ]
  },
  {
   "cell_type": "code",
   "execution_count": null,
   "metadata": {},
   "outputs": [],
   "source": [
    "def nested_example(x):\n",
    "    if x < 50:\n",
    "        if x % 2 == 0:\n",
    "            return 'branch a'\n",
    "        else:\n",
    "            return 'branch b'\n",
    "    else:\n",
    "        return 'branch c'"
   ]
  },
  {
   "cell_type": "code",
   "execution_count": null,
   "metadata": {},
   "outputs": [],
   "source": [
    "print (nested_example(42))\n",
    "# print (nested_example(51))\n",
    "# print (nested_example(37))\n",
    "# print (nested_example(16))"
   ]
  },
  {
   "cell_type": "markdown",
   "metadata": {},
   "source": [
    "In this example, we have an `if` statement nested under another `if` statement. As we change the input, we end up on different branches of the tree.\n",
    "\n",
    "![nested_logic_flowchart](images/nested_logic_flowchart.png)\n",
    "\n",
    "The statement that follows the `if` is called the **condition**. The condition can be either true or false. If the condition is true, then we execute the statements under the `if`. If the condition is false, then we execute the statements under the `else` (or if there is no `else`, then we do nothing).\n",
    "\n",
    "Conditions themselves are instructions that Python can interpret."
   ]
  },
  {
   "cell_type": "code",
   "execution_count": null,
   "metadata": {},
   "outputs": [],
   "source": [
    "print(50 > 10)\n",
    "print(2 + 2 == 4)\n",
    "print(-3 > 2)"
   ]
  },
  {
   "cell_type": "markdown",
   "metadata": {},
   "source": [
    "Conditions are evaluated as booleans, which are `True` or `False`. We can combine conditions by asking of condition A _and_ condition B are true. We could also ask if condition A _or_ condition B are true. Let's consider whether such statements are true overall based on the possible values of condition A and condition B.\n",
    "\n",
    "|Condition A|Condition B|Condition A and Condition B|Condition A or Condition B|\n",
    "|:---------:|:---------:|:-------------------------:|:------------------------:|\n",
    "|True|True|True|True|\n",
    "|True|False|False|True|\n",
    "|False|True|False|True|\n",
    "|False|False|False|False|"
   ]
  },
  {
   "cell_type": "code",
   "execution_count": null,
   "metadata": {},
   "outputs": [],
   "source": [
    "print(True and True)\n",
    "print(True and False)\n",
    "print(False and True)\n",
    "print(False and False)"
   ]
  },
  {
   "cell_type": "code",
   "execution_count": null,
   "metadata": {},
   "outputs": [],
   "source": [
    "print(True or True)\n",
    "print(True or False)\n",
    "print(False or True)\n",
    "print(False or False)"
   ]
  },
  {
   "cell_type": "code",
   "execution_count": null,
   "metadata": {},
   "outputs": [],
   "source": [
    "x = 5\n",
    "y = 3\n",
    "\n",
    "print(x > 4 and y > 2)\n",
    "print(x > 7 and y > 2)\n",
    "print(x > 7 or y > 2)"
   ]
  },
  {
   "cell_type": "markdown",
   "metadata": {},
   "source": [
    "The keywords `or` and `and` are called **logical operations** (in the same sense that we call `+`, `-`, `*`, etc. arithmetic operations). The last logical operation is `not`: `not True` is `False`, `not False` is `True`."
   ]
  },
  {
   "cell_type": "code",
   "execution_count": null,
   "metadata": {},
   "outputs": [],
   "source": [
    "print(not True)\n",
    "print(not False)"
   ]
  },
  {
   "cell_type": "code",
   "execution_count": null,
   "metadata": {},
   "outputs": [],
   "source": [
    "x = 10\n",
    "y = 8\n",
    "\n",
    "print(x > 7 or y < 7)\n",
    "print(not x > 7 or y < 7)\n",
    "print(not x > 7 or not y < 7)\n",
    "print(not (x > 7 or y < 7))"
   ]
  },
  {
   "cell_type": "markdown",
   "metadata": {},
   "source": [
    "### Exercises\n",
    "\n",
    "1. Write a function which takes in a number and returns True if it is greater than 10 but less than 20 or it is less than -100.\n",
    "2. print the output of the `%`, `/` and `//` operators on any two numbers "
   ]
  },
  {
   "cell_type": "markdown",
   "metadata": {},
   "source": [
    "## Iteration: `for` and `while` Loops\n",
    "\n",
    "Conditionals are very useful because they allow our programs to make decisions based on some information. These decisions control the flow of the program (i.e. which statements get executed). We have one other major tool for controlling  program flow, which is repetition. In programming, we will use repetitive loops to execute the same code many times. This is called **iteration**. The most basic kind of iteration is the `while` loop. A `while` loop will keep executing so long as the condition after the `while` is `True`."
   ]
  },
  {
   "cell_type": "markdown",
   "metadata": {},
   "source": [
    "The `while` loop in Python is used to iterate over a block of code as long as the test expression (condition) is true. he Python while loop allows a part of the code to be executed until the given condition returns false.\n",
    "t can be viewed as a repeating if statement. When we don't know the number of iterations then the while loop is most effective to use.\n",
    "\n",
    "The syntax is given below."
   ]
  },
  {
   "cell_type": "code",
   "execution_count": null,
   "metadata": {},
   "outputs": [],
   "source": [
    "while expression:    \n",
    "    statements    "
   ]
  },
  {
   "cell_type": "code",
   "execution_count": null,
   "metadata": {},
   "outputs": [],
   "source": [
    "x = 1\n",
    "while x <= 10:\n",
    "    print(x**2)\n",
    "    x = x + 1"
   ]
  },
  {
   "cell_type": "markdown",
   "metadata": {},
   "source": [
    "The `for` loop in Python is used to iterate over a sequence (list, tuple, string) or other iterable objects. \n",
    "Loop continues until we reach the last item in the sequence. The body of for loop is separated from the rest of the code using indentation. It is frequently used to traverse the data structures like `list`, `tuple`, `strings` or `dictionary`"
   ]
  },
  {
   "cell_type": "code",
   "execution_count": null,
   "metadata": {},
   "outputs": [],
   "source": [
    "for item in sequence:    \n",
    "    statement(s)    "
   ]
  },
  {
   "cell_type": "code",
   "execution_count": null,
   "metadata": {},
   "outputs": [],
   "source": [
    "my_numbers = [1, 2, 3, 4, 5, 6, 7, 8, 9, 10]  \n",
    "n = 5  \n",
    "for number in my_numbers:  \n",
    "    c = n * number  \n",
    "    print(c)  "
   ]
  },
  {
   "cell_type": "code",
   "execution_count": null,
   "metadata": {},
   "outputs": [],
   "source": [
    "bread_recipe = ['Dissolve salt in water', 'Mix yeast into water', 'Mix water with flour to form dough', \n",
    "                'Knead dough', 'Let dough rise', 'Shape dough', 'Bake']\n",
    "\n",
    "soup_recipe = ['Dissolve salt in water', 'Boil  water', 'Add bones to boiling water', 'Chop onions', \n",
    "               'Chop garlic', 'Chop carrot', 'Chop celery', 'Remove bones from water', \n",
    "               'Add vegetables to boiling water', 'Add meat to boiling water']\n",
    "\n",
    "beans_recipe = ['Soak beans in water', 'Dissolve salt in water', 'Heat water and beans to boil', \n",
    "                'Drain beans when done cooking']"
   ]
  },
  {
   "cell_type": "markdown",
   "metadata": {},
   "source": [
    "Each of these lists has different instructions, and they are not all the same length. The beans recipe has four steps while the soup recipe has ten. It would be hard to write a `while` loop to print out each step. It is much easier to do it using a `for` loop.\n",
    "\n",
    "A `for` loop does an action for each item in a `list` (or more precisely, in an **iterable**)."
   ]
  },
  {
   "cell_type": "code",
   "execution_count": null,
   "metadata": {},
   "outputs": [],
   "source": [
    "def print_recipe(instructions):\n",
    "    for step in instructions:\n",
    "        print(step)"
   ]
  },
  {
   "cell_type": "code",
   "execution_count": null,
   "metadata": {},
   "outputs": [],
   "source": [
    "print_recipe(soup_recipe)"
   ]
  },
  {
   "cell_type": "markdown",
   "metadata": {},
   "source": [
    "**Question**\n",
    "* Create a list `fname_list` with first names of 5 people. Create a function `first_names` and print out each first name in your list"
   ]
  },
  {
   "cell_type": "markdown",
   "metadata": {},
   "source": [
    "## Putting it all together\n",
    "\n",
    "We've learned two of the major components of programs: **variables** and **functions**. We've also learned two of the major components of program control: **conditionals** (`if` statements) and **iteration** (`for` and `while` loops). We can use these ideas and tools to write code to perform complex tasks. Let's look at an example, involving all of these ideas put together.\n",
    "\n",
    "Below we write a function that prints out all the prime numbers up to some number `n`. We will use iteration to check if each number is prime. We will use a conditional to print out numbers only if they are prime. We will also break up the task into small pieces so our code is easy to read and understand. This means we will use (or _call_) helper functions inside of our solution."
   ]
  },
  {
   "cell_type": "markdown",
   "metadata": {},
   "source": [
    "## More About Functions"
   ]
  },
  {
   "cell_type": "markdown",
   "metadata": {},
   "source": [
    "## Function calling another function"
   ]
  },
  {
   "cell_type": "code",
   "execution_count": null,
   "metadata": {},
   "outputs": [],
   "source": [
    "def is_prime(number):\n",
    "    if number <= 1:\n",
    "        return False\n",
    "    \n",
    "    for factor in range(2, number):\n",
    "        if number % factor == 0:\n",
    "            return False\n",
    "\n",
    "    return True\n",
    "\n",
    "def print_primes(n):\n",
    "    for number in range(1, n):\n",
    "        if is_prime(number):\n",
    "            print('%d is prime' % number)"
   ]
  },
  {
   "cell_type": "code",
   "execution_count": null,
   "metadata": {
    "scrolled": true
   },
   "outputs": [],
   "source": [
    "print_primes(42)"
   ]
  },
  {
   "cell_type": "markdown",
   "metadata": {},
   "source": [
    "### Recursive Functions\n",
    "a recursive function can be defined as a routine that calls itself directly or indirectly. (https://www.python-course.eu/python3_recursive_functions.php)\n",
    "Termination condition: A recursive function has to fulfil an important condition to be used in a program: it has to terminate. A recursive function terminates, if with every recursive call the solution of the problem is downsized and moves towards a base case. A base case is a case, where the problem can be solved without further recursion. A recursion can end up in an infinite loop, if the base case is not met in the calls."
   ]
  },
  {
   "cell_type": "code",
   "execution_count": null,
   "metadata": {},
   "outputs": [],
   "source": [
    "def factorial (n):\n",
    "    if n == 1:\n",
    "        return n\n",
    "    else:\n",
    "        return n*fact(n-1)"
   ]
  },
  {
   "cell_type": "code",
   "execution_count": null,
   "metadata": {},
   "outputs": [],
   "source": [
    "def factorial(n):\n",
    "    print(\"factorial has been called with n = \" + str(n))\n",
    "    if n == 1:\n",
    "        return 1\n",
    "    else:\n",
    "        res = n * factorial(n-1)\n",
    "        print(\"intermediate result for \", n, \" * factorial(\" ,n-1, \"): \",res)\n",
    "        return res\t\n",
    "\n",
    "print(factorial(5))"
   ]
  },
  {
   "cell_type": "markdown",
   "metadata": {},
   "source": [
    "## Types of Arguments"
   ]
  },
  {
   "cell_type": "markdown",
   "metadata": {},
   "source": [
    "### 1. Required Arguments\n",
    "These are the arguments which are required to be passed at the time of function calling with the exact match of their positions in the function call and function definition. If either of the arguments is not provided in the function call, or the position of the arguments is changed, the Python interpreter will show the error."
   ]
  },
  {
   "cell_type": "code",
   "execution_count": null,
   "metadata": {},
   "outputs": [],
   "source": [
    "def greet(name, msg):\n",
    "    print(\"Hello {}, {}\".format(name, msg))\n",
    "\n",
    "greet(\"Frank\", \"Good morning!\")"
   ]
  },
  {
   "cell_type": "markdown",
   "metadata": {},
   "source": [
    "### 2. Default Arguments\n",
    "Function arguments can have default values in Python.\n",
    "If the value of any of the arguments is not provided at the time of function call, then that argument can be initialized with the value given in the definition even if the argument is not specified at the function call.\n",
    "We can provide a default value to an argument by using the assignment operator (=). Here is an example."
   ]
  },
  {
   "cell_type": "code",
   "execution_count": null,
   "metadata": {},
   "outputs": [],
   "source": [
    "def greet(name, msg=\"Good morning!\"):\n",
    "    \"\"\"\n",
    "    This function greets to\n",
    "    the person with the\n",
    "    provided message.\n",
    "\n",
    "    If the message is not provided,\n",
    "    it defaults to \"Good\n",
    "    morning!\"\n",
    "    \"\"\"\n",
    "\n",
    "    print(\"Hello\", name + ', ' + msg)\n",
    "\n",
    "\n",
    "greet(\"Kate\")\n",
    "greet(\"Bruce\", \"How do you do?\")"
   ]
  },
  {
   "cell_type": "markdown",
   "metadata": {},
   "source": [
    "### 3. Arbitrary Arguments\n",
    "Sometimes, we do not know in advance the number of arguments that will be passed into a function. Python allows us to handle this kind of situation through function calls with an arbitrary number of arguments.\n",
    "\n",
    "In the function definition, we use an asterisk `*` before the parameter name to denote this kind of argument"
   ]
  },
  {
   "cell_type": "code",
   "execution_count": null,
   "metadata": {
    "scrolled": true
   },
   "outputs": [],
   "source": [
    "def greet(*names):\n",
    "    \"\"\"This function greets all\n",
    "    the person in the names tuple.\"\"\"\n",
    "\n",
    "    # names is a tuple with arguments\n",
    "    for name in names:\n",
    "        print(\"Hello\", name)\n",
    "\n",
    "\n",
    "greet(\"Monica\", \"Luke\", \"Steve\", \"John\")"
   ]
  },
  {
   "cell_type": "markdown",
   "metadata": {},
   "source": [
    "## More Examples on Functions"
   ]
  },
  {
   "cell_type": "code",
   "execution_count": null,
   "metadata": {},
   "outputs": [],
   "source": [
    "def print_todo(watch_tv, read, eat, sleep):\n",
    "    print('I need to:')\n",
    "    if watch_tv:\n",
    "        print('   watch_tv')\n",
    "    if read:\n",
    "        print('   read')\n",
    "    if eat:\n",
    "        print('   eat')\n",
    "    if sleep:\n",
    "        print('   sleep')\n",
    "        \n",
    "print_todo(True, True, True, True)"
   ]
  },
  {
   "cell_type": "markdown",
   "metadata": {},
   "source": [
    "I know that I almost always need to eat and sleep, so I can use a default argument for these instead.  This means I don't need to define the value of `eat` and `sleep` unless they are different than the default."
   ]
  },
  {
   "cell_type": "code",
   "execution_count": null,
   "metadata": {},
   "outputs": [],
   "source": [
    "def print_todo_default(watch_tv, read, eat=True, sleep=True):\n",
    "    print('I need to:')\n",
    "    if watch_tv:\n",
    "        print('  watch_tv')\n",
    "    if read:\n",
    "        print('  read')\n",
    "    if eat:\n",
    "        print('  eat')\n",
    "    if sleep:\n",
    "        print('  sleep')\n",
    "print_todo_default(True, True)"
   ]
  },
  {
   "cell_type": "code",
   "execution_count": null,
   "metadata": {},
   "outputs": [],
   "source": [
    "def print_todo_args(*args):\n",
    "    print('I need to:')\n",
    "    for arg in args:\n",
    "        print(' ', arg)"
   ]
  },
  {
   "cell_type": "code",
   "execution_count": null,
   "metadata": {},
   "outputs": [],
   "source": [
    "print_todo_args('watch_tv', 'read', 'eat', 'sleep')"
   ]
  },
  {
   "cell_type": "markdown",
   "metadata": {},
   "source": [
    "This sort of syntax can be very useful in large programs where abstract functions may all a variety of different functions with different arguments."
   ]
  },
  {
   "cell_type": "markdown",
   "metadata": {},
   "source": [
    "### Some topics we haven't discussed, but have used:\n",
    "- [String formatting](https://realpython.com/python-string-formatting/)"
   ]
  },
  {
   "cell_type": "markdown",
   "metadata": {},
   "source": [
    "*Copyright &copy; 2021 Kin-Keepers.  All rights reserved.*"
   ]
  }
 ],
 "metadata": {
  "kernelspec": {
   "display_name": "Python 3",
   "language": "python",
   "name": "python3"
  },
  "language_info": {
   "codemirror_mode": {
    "name": "ipython",
    "version": 3
   },
   "file_extension": ".py",
   "mimetype": "text/x-python",
   "name": "python",
   "nbconvert_exporter": "python",
   "pygments_lexer": "ipython3",
   "version": "3.8.8"
  },
  "nbclean": true
 },
 "nbformat": 4,
 "nbformat_minor": 1
}
